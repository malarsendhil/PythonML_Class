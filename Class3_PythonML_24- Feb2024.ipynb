{
 "cells": [
  {
   "cell_type": "code",
   "execution_count": 2,
   "id": "08cec1c1",
   "metadata": {},
   "outputs": [
    {
     "name": "stdout",
     "output_type": "stream",
     "text": [
      "{1, 2, 3, 4}\n"
     ]
    }
   ],
   "source": [
    "a={1,1,1,1,1,2,2,2,3,3,3,4}\n",
    "print (a)\n",
    "\n"
   ]
  },
  {
   "cell_type": "code",
   "execution_count": 3,
   "id": "bc0ad271",
   "metadata": {},
   "outputs": [
    {
     "name": "stdout",
     "output_type": "stream",
     "text": [
      "<class 'set'>\n"
     ]
    }
   ],
   "source": [
    "print(type(a))"
   ]
  },
  {
   "cell_type": "code",
   "execution_count": 5,
   "id": "d03f713a",
   "metadata": {},
   "outputs": [
    {
     "name": "stdout",
     "output_type": "stream",
     "text": [
      "True\n"
     ]
    }
   ],
   "source": [
    "print(isinstance(a,set))"
   ]
  },
  {
   "cell_type": "code",
   "execution_count": 6,
   "id": "fccd5c5d",
   "metadata": {},
   "outputs": [
    {
     "name": "stdout",
     "output_type": "stream",
     "text": [
      "1\n"
     ]
    }
   ],
   "source": [
    "print(min(a))"
   ]
  },
  {
   "cell_type": "code",
   "execution_count": 7,
   "id": "ce865e15",
   "metadata": {},
   "outputs": [
    {
     "name": "stdout",
     "output_type": "stream",
     "text": [
      "4\n"
     ]
    }
   ],
   "source": [
    "print(max(a))"
   ]
  },
  {
   "cell_type": "code",
   "execution_count": 8,
   "id": "a980d59b",
   "metadata": {},
   "outputs": [
    {
     "name": "stdout",
     "output_type": "stream",
     "text": [
      "[1, 2, 3, 4]\n"
     ]
    }
   ],
   "source": [
    "print(sorted(a))"
   ]
  },
  {
   "cell_type": "code",
   "execution_count": 9,
   "id": "2c1cac33",
   "metadata": {},
   "outputs": [
    {
     "name": "stdout",
     "output_type": "stream",
     "text": [
      "4\n"
     ]
    }
   ],
   "source": [
    "print(len(a))"
   ]
  },
  {
   "cell_type": "code",
   "execution_count": null,
   "id": "7cadce09",
   "metadata": {},
   "outputs": [],
   "source": [
    "# set is removed duplication.It wont allow\n",
    "#set is not supported for indexing\n",
    "#soreted na kuduthalum output comes list"
   ]
  },
  {
   "cell_type": "code",
   "execution_count": 10,
   "id": "1198de84",
   "metadata": {},
   "outputs": [
    {
     "name": "stdout",
     "output_type": "stream",
     "text": [
      "{1, 2, 3, 4, 5, 6}\n",
      "{3, 4}\n",
      "{1, 2}\n",
      "{5, 6}\n"
     ]
    }
   ],
   "source": [
    "a={1,2,3,4}\n",
    "b={3,4,5,6}\n",
    "print(a.union(b))\n",
    "print(a.intersection(b))\n",
    "print(a.difference(b))\n",
    "print(b.difference(a))"
   ]
  },
  {
   "cell_type": "code",
   "execution_count": 12,
   "id": "5e9801eb",
   "metadata": {},
   "outputs": [
    {
     "name": "stdout",
     "output_type": "stream",
     "text": [
      "True\n",
      "True\n"
     ]
    }
   ],
   "source": [
    "s ={1,2,3}\n",
    "t={1,2,3,4,5,6}\n",
    "print(s.issubset(t))\n",
    "print(t.issuperset(s))"
   ]
  },
  {
   "cell_type": "code",
   "execution_count": 13,
   "id": "e618aa9e",
   "metadata": {},
   "outputs": [
    {
     "name": "stdout",
     "output_type": "stream",
     "text": [
      "False\n",
      "False\n"
     ]
    }
   ],
   "source": [
    "print(t.issubset(s))\n",
    "print(s.issuperset(t))"
   ]
  },
  {
   "cell_type": "code",
   "execution_count": null,
   "id": "9deee6d8",
   "metadata": {},
   "outputs": [],
   "source": [
    "#ethu first set la irukuratha + extra numbers vachu irukutho athu than superset\n",
    "#remaning one is subset"
   ]
  },
  {
   "cell_type": "code",
   "execution_count": null,
   "id": "9d060400",
   "metadata": {},
   "outputs": [],
   "source": [
    "d=[[\"arun\",\"chennai\",\"25\"],[\"32\",\"Kuamr\",\"Madurai\"]]\n",
    "#we cant go with indexing , because order mari iruku\n",
    "#so we can go with  dictonary "
   ]
  },
  {
   "cell_type": "code",
   "execution_count": 14,
   "id": "6eb944a8",
   "metadata": {},
   "outputs": [],
   "source": [
    "d={\"name\":\"kumar\",\"age\":20,\"location\":\"Madurai\"}"
   ]
  },
  {
   "cell_type": "code",
   "execution_count": 15,
   "id": "352d23e0",
   "metadata": {},
   "outputs": [
    {
     "name": "stdout",
     "output_type": "stream",
     "text": [
      "{'name': 'kumar', 'age': 20, 'location': 'Madurai'}\n"
     ]
    }
   ],
   "source": [
    "print(d)"
   ]
  },
  {
   "cell_type": "code",
   "execution_count": null,
   "id": "d96bdb0e",
   "metadata": {},
   "outputs": [],
   "source": [
    "#{k:value,k:value}"
   ]
  },
  {
   "cell_type": "code",
   "execution_count": 18,
   "id": "95b2a990",
   "metadata": {},
   "outputs": [
    {
     "name": "stdout",
     "output_type": "stream",
     "text": [
      "<class 'dict'>\n",
      "True\n",
      "age\n",
      "name\n",
      "['age', 'location', 'name']\n",
      "3\n"
     ]
    }
   ],
   "source": [
    "print(type(d))\n",
    "print(isinstance(d,dict))\n",
    "print(min(d))\n",
    "print(max(d))\n",
    "print(sorted(d))\n",
    "print(len(d))"
   ]
  },
  {
   "cell_type": "code",
   "execution_count": 19,
   "id": "2c21151e",
   "metadata": {},
   "outputs": [
    {
     "name": "stdout",
     "output_type": "stream",
     "text": [
      "kumar\n"
     ]
    }
   ],
   "source": [
    "print(d[\"name\"])"
   ]
  },
  {
   "cell_type": "code",
   "execution_count": 20,
   "id": "c2eedceb",
   "metadata": {},
   "outputs": [
    {
     "name": "stdout",
     "output_type": "stream",
     "text": [
      "20\n",
      "Madurai\n"
     ]
    }
   ],
   "source": [
    "print(d[\"age\"])\n",
    "print(d[\"location\"])"
   ]
  },
  {
   "cell_type": "code",
   "execution_count": 21,
   "id": "306815c3",
   "metadata": {},
   "outputs": [
    {
     "ename": "KeyError",
     "evalue": "'demo'",
     "output_type": "error",
     "traceback": [
      "\u001b[1;31m---------------------------------------------------------------------------\u001b[0m",
      "\u001b[1;31mKeyError\u001b[0m                                  Traceback (most recent call last)",
      "Cell \u001b[1;32mIn[21], line 1\u001b[0m\n\u001b[1;32m----> 1\u001b[0m \u001b[38;5;28mprint\u001b[39m(d[\u001b[38;5;124m\"\u001b[39m\u001b[38;5;124mdemo\u001b[39m\u001b[38;5;124m\"\u001b[39m])\n",
      "\u001b[1;31mKeyError\u001b[0m: 'demo'"
     ]
    }
   ],
   "source": [
    "print(d[\"demo\"])# demo nu oru value illa so error varum nama print pannum pothu"
   ]
  },
  {
   "cell_type": "code",
   "execution_count": 28,
   "id": "b3d9a021",
   "metadata": {},
   "outputs": [
    {
     "name": "stdout",
     "output_type": "stream",
     "text": [
      "Madurai\n"
     ]
    }
   ],
   "source": [
    "print(d.get(\"location\"))"
   ]
  },
  {
   "cell_type": "markdown",
   "id": "b60e848c",
   "metadata": {},
   "source": [
    "print(d.get(\"demo\"))\n"
   ]
  },
  {
   "cell_type": "code",
   "execution_count": 27,
   "id": "2882cdde",
   "metadata": {},
   "outputs": [
    {
     "name": "stdout",
     "output_type": "stream",
     "text": [
      "None\n"
     ]
    }
   ],
   "source": [
    "print(d.get(\"demo\"))\n",
    "#ippo get(\"demo\") nu kudutha namaku none nu varum antha key value illainalum\n",
    "#ippo ennaku athukum some value va return pannanum nah just type get(\"demo\",\"test\")\n",
    "#kudutha \"none\" ku pathilah \"test\" nu varum."
   ]
  },
  {
   "cell_type": "code",
   "execution_count": 25,
   "id": "f74f60d1",
   "metadata": {},
   "outputs": [
    {
     "name": "stdout",
     "output_type": "stream",
     "text": [
      "test\n"
     ]
    }
   ],
   "source": [
    "print(d.get(\"demo\",\"test\"))"
   ]
  },
  {
   "cell_type": "code",
   "execution_count": 29,
   "id": "263d1b05",
   "metadata": {},
   "outputs": [
    {
     "name": "stdout",
     "output_type": "stream",
     "text": [
      "{'name': 'kumar', 'age': 20, 'location': 'Madurai'}\n"
     ]
    }
   ],
   "source": [
    "print(d)"
   ]
  },
  {
   "cell_type": "code",
   "execution_count": 30,
   "id": "96220709",
   "metadata": {},
   "outputs": [],
   "source": [
    "d[\"state\"]=\"Tamilnadu\"\n",
    "#New va key value add pannurathu we can add like this"
   ]
  },
  {
   "cell_type": "code",
   "execution_count": 31,
   "id": "f93a64cb",
   "metadata": {},
   "outputs": [
    {
     "name": "stdout",
     "output_type": "stream",
     "text": [
      "{'name': 'kumar', 'age': 20, 'location': 'Madurai', 'state': 'Tamilnadu'}\n"
     ]
    }
   ],
   "source": [
    "print(d)"
   ]
  },
  {
   "cell_type": "code",
   "execution_count": 33,
   "id": "bf59d608",
   "metadata": {},
   "outputs": [
    {
     "name": "stdout",
     "output_type": "stream",
     "text": [
      "{'name': 'Sendhil', 'age': 20, 'location': 'Madurai', 'state': 'Tamilnadu'}\n"
     ]
    }
   ],
   "source": [
    "#ippo same key value name ah kudutha latest ah enna value assign panninamo athu than eduthukum\n",
    "d[\"name\"]=\"Sendhil\"\n",
    "print(d)"
   ]
  },
  {
   "cell_type": "code",
   "execution_count": 34,
   "id": "549d3933",
   "metadata": {},
   "outputs": [
    {
     "name": "stdout",
     "output_type": "stream",
     "text": [
      "{'name': 'Sendhil', 'age': 20, 'location': 'Madurai'}\n"
     ]
    }
   ],
   "source": [
    "del d[\"state\"]\n",
    "print(d)"
   ]
  },
  {
   "cell_type": "code",
   "execution_count": 38,
   "id": "367b2300",
   "metadata": {},
   "outputs": [
    {
     "ename": "KeyError",
     "evalue": "'age'",
     "output_type": "error",
     "traceback": [
      "\u001b[1;31m---------------------------------------------------------------------------\u001b[0m",
      "\u001b[1;31mKeyError\u001b[0m                                  Traceback (most recent call last)",
      "Cell \u001b[1;32mIn[38], line 1\u001b[0m\n\u001b[1;32m----> 1\u001b[0m d\u001b[38;5;241m.\u001b[39mpop(\u001b[38;5;124m\"\u001b[39m\u001b[38;5;124mage\u001b[39m\u001b[38;5;124m\"\u001b[39m)\n",
      "\u001b[1;31mKeyError\u001b[0m: 'age'"
     ]
    }
   ],
   "source": [
    "d.pop(\"age\")\n"
   ]
  },
  {
   "cell_type": "code",
   "execution_count": 39,
   "id": "e6f38b1a",
   "metadata": {},
   "outputs": [
    {
     "name": "stdout",
     "output_type": "stream",
     "text": [
      "{'name': 'Sendhil', 'location': 'Madurai'}\n"
     ]
    }
   ],
   "source": [
    "print(d)"
   ]
  },
  {
   "cell_type": "code",
   "execution_count": 40,
   "id": "bf656278",
   "metadata": {},
   "outputs": [
    {
     "name": "stdout",
     "output_type": "stream",
     "text": [
      "{'name': 'Sendhil'}\n"
     ]
    }
   ],
   "source": [
    "d.popitem()\n",
    "print(d)"
   ]
  },
  {
   "cell_type": "code",
   "execution_count": 41,
   "id": "234601dd",
   "metadata": {},
   "outputs": [],
   "source": [
    "p={\"name\":\"malar\",\"age\":34,\"location\":\"bangalore\"}"
   ]
  },
  {
   "cell_type": "code",
   "execution_count": 42,
   "id": "21d20d98",
   "metadata": {},
   "outputs": [
    {
     "name": "stdout",
     "output_type": "stream",
     "text": [
      "{'name': 'malar', 'age': 34, 'location': 'bangalore'}\n"
     ]
    }
   ],
   "source": [
    "print(p)"
   ]
  },
  {
   "cell_type": "code",
   "execution_count": 43,
   "id": "472072e1",
   "metadata": {},
   "outputs": [
    {
     "data": {
      "text/plain": [
       "34"
      ]
     },
     "execution_count": 43,
     "metadata": {},
     "output_type": "execute_result"
    }
   ],
   "source": [
    "p.pop(\"age\")"
   ]
  },
  {
   "cell_type": "code",
   "execution_count": 44,
   "id": "79a9a03f",
   "metadata": {},
   "outputs": [
    {
     "name": "stdout",
     "output_type": "stream",
     "text": [
      "{'name': 'malar', 'location': 'bangalore'}\n"
     ]
    }
   ],
   "source": [
    "print(p)"
   ]
  },
  {
   "cell_type": "code",
   "execution_count": 45,
   "id": "17e4286b",
   "metadata": {},
   "outputs": [
    {
     "name": "stdout",
     "output_type": "stream",
     "text": [
      "{'name': 'malar'}\n"
     ]
    }
   ],
   "source": [
    "p.popitem()\n",
    "print(p)\n",
    "#last ah irukurah items a remove paniduthu\n",
    "#we can do like this also\n",
    "#   b=(d.popitem())\n",
    "#   print(d)\n",
    "#   print(b)\n"
   ]
  },
  {
   "cell_type": "code",
   "execution_count": 49,
   "id": "9b253979",
   "metadata": {},
   "outputs": [],
   "source": [
    "f={\"name\":\"malarsendhil\",\"age\":35,\"location\":\"bangalore\"}"
   ]
  },
  {
   "cell_type": "code",
   "execution_count": 50,
   "id": "cb5e2050",
   "metadata": {},
   "outputs": [
    {
     "name": "stdout",
     "output_type": "stream",
     "text": [
      "{'name': 'malarsendhil', 'age': 35, 'location': 'bangalore'}\n"
     ]
    }
   ],
   "source": [
    "print(f)"
   ]
  },
  {
   "cell_type": "code",
   "execution_count": 51,
   "id": "db8fa9bf",
   "metadata": {},
   "outputs": [
    {
     "name": "stdout",
     "output_type": "stream",
     "text": [
      "dict_keys(['name', 'age', 'location'])\n",
      "dict_values(['malarsendhil', 35, 'bangalore'])\n",
      "dict_items([('name', 'malarsendhil'), ('age', 35), ('location', 'bangalore')])\n"
     ]
    }
   ],
   "source": [
    "print(f.keys())\n",
    "print(f.values())\n",
    "print(f.items())"
   ]
  },
  {
   "cell_type": "code",
   "execution_count": 52,
   "id": "134dbc29",
   "metadata": {},
   "outputs": [],
   "source": [
    "g={\"name\":\"mani\",\"age\":34,\"location\":\"Mangalore\"}"
   ]
  },
  {
   "cell_type": "code",
   "execution_count": 53,
   "id": "321de10a",
   "metadata": {},
   "outputs": [
    {
     "name": "stdout",
     "output_type": "stream",
     "text": [
      "{'name': 'mani', 'age': 34, 'location': 'Mangalore'}\n"
     ]
    }
   ],
   "source": [
    "print(g)"
   ]
  },
  {
   "cell_type": "code",
   "execution_count": 54,
   "id": "34089c29",
   "metadata": {},
   "outputs": [],
   "source": [
    "b=(g.popitem())"
   ]
  },
  {
   "cell_type": "code",
   "execution_count": 55,
   "id": "4a4cef99",
   "metadata": {},
   "outputs": [
    {
     "name": "stdout",
     "output_type": "stream",
     "text": [
      "{'name': 'mani', 'age': 34}\n",
      "('location', 'Mangalore')\n"
     ]
    }
   ],
   "source": [
    "print(g)\n",
    "print(b)"
   ]
  },
  {
   "cell_type": "code",
   "execution_count": 57,
   "id": "ecc6d5a7",
   "metadata": {},
   "outputs": [
    {
     "name": "stdout",
     "output_type": "stream",
     "text": [
      "7\n",
      "3\n",
      "2.5\n",
      "1\n",
      "2\n",
      "10\n"
     ]
    }
   ],
   "source": [
    "## OPERATORS\n",
    "\n",
    "x=5\n",
    "y=2\n",
    "print(x+y)\n",
    "print(x-y)\n",
    "print(x/y) #normal division\n",
    "print(x%y) # modulus gives remainder\n",
    "print(x//y) #floor division gives Quitient\n",
    "print(x*y)"
   ]
  },
  {
   "cell_type": "code",
   "execution_count": 59,
   "id": "0bd979ab",
   "metadata": {},
   "outputs": [
    {
     "name": "stdout",
     "output_type": "stream",
     "text": [
      "False\n",
      "True\n",
      "True\n",
      "True\n",
      "False\n",
      "False\n"
     ]
    }
   ],
   "source": [
    "#relational operator (double equal is relational opeartor)\n",
    "i=5\n",
    "j=4\n",
    "print(i==j)\n",
    "print(i!=j)\n",
    "print(i>j)\n",
    "print(i>=j)\n",
    "print(i<j)\n",
    "print(i<=j)\n"
   ]
  },
  {
   "cell_type": "code",
   "execution_count": 60,
   "id": "5676b805",
   "metadata": {},
   "outputs": [
    {
     "name": "stdout",
     "output_type": "stream",
     "text": [
      "6\n"
     ]
    }
   ],
   "source": [
    "#assignment operator\n",
    "k=3\n",
    "k=k+3\n",
    "print(k)"
   ]
  },
  {
   "cell_type": "code",
   "execution_count": 61,
   "id": "6fabb3b3",
   "metadata": {},
   "outputs": [
    {
     "name": "stdout",
     "output_type": "stream",
     "text": [
      "7\n"
     ]
    }
   ],
   "source": [
    "l=4\n",
    "l+=3\n",
    "print(l)"
   ]
  },
  {
   "cell_type": "code",
   "execution_count": 62,
   "id": "612b69e8",
   "metadata": {},
   "outputs": [
    {
     "name": "stdout",
     "output_type": "stream",
     "text": [
      "True\n",
      "False\n",
      "True\n",
      "True\n",
      "False\n",
      "True\n"
     ]
    }
   ],
   "source": [
    "#logical \n",
    "print(True and True)\n",
    "print(True and False)\n",
    "print(True or True)\n",
    "print(True or False)\n",
    "print(not True)\n",
    "print(not False)"
   ]
  },
  {
   "cell_type": "code",
   "execution_count": null,
   "id": "e7f53665",
   "metadata": {},
   "outputs": [],
   "source": [
    "#Assignment\n",
    "#1.a=[\"hi\",\"hi\",\"hello\",\"welcome\"]\n",
    "#Remove the duplicates want op in list\n",
    "#2.a={\"name\":\"kiran\",\"age\":20,\"location\":\"chennai\"}\n",
    "#get age check datatpe\n",
    "#get location value and check datatype\n",
    "#get name value and check datatype\n",
    "\n",
    "#3.Add a new key value to the above dictonary"
   ]
  }
 ],
 "metadata": {
  "kernelspec": {
   "display_name": "Python 3 (ipykernel)",
   "language": "python",
   "name": "python3"
  },
  "language_info": {
   "codemirror_mode": {
    "name": "ipython",
    "version": 3
   },
   "file_extension": ".py",
   "mimetype": "text/x-python",
   "name": "python",
   "nbconvert_exporter": "python",
   "pygments_lexer": "ipython3",
   "version": "3.11.3"
  }
 },
 "nbformat": 4,
 "nbformat_minor": 5
}
