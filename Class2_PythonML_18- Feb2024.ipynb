{
 "cells": [
  {
   "cell_type": "code",
   "execution_count": 1,
   "id": "9891d5cb",
   "metadata": {},
   "outputs": [],
   "source": [
    "name=\"MalarvizhiSendhilMani\""
   ]
  },
  {
   "cell_type": "code",
   "execution_count": 2,
   "id": "e861d5cc",
   "metadata": {},
   "outputs": [
    {
     "name": "stdout",
     "output_type": "stream",
     "text": [
      "v\n"
     ]
    }
   ],
   "source": [
    "print(name[5])"
   ]
  },
  {
   "cell_type": "code",
   "execution_count": 3,
   "id": "fff2f758",
   "metadata": {},
   "outputs": [
    {
     "name": "stdout",
     "output_type": "stream",
     "text": [
      "5\n"
     ]
    }
   ],
   "source": [
    "print(name.index(\"v\"))"
   ]
  },
  {
   "cell_type": "code",
   "execution_count": 5,
   "id": "473623f4",
   "metadata": {},
   "outputs": [
    {
     "name": "stdout",
     "output_type": "stream",
     "text": [
      "6\n"
     ]
    }
   ],
   "source": [
    "print(name.index(\"i\",2))"
   ]
  },
  {
   "cell_type": "code",
   "execution_count": 8,
   "id": "14bd2357",
   "metadata": {},
   "outputs": [
    {
     "name": "stdout",
     "output_type": "stream",
     "text": [
      "15\n"
     ]
    }
   ],
   "source": [
    "print(name.index(\"i\",10))\n"
   ]
  },
  {
   "cell_type": "code",
   "execution_count": 9,
   "id": "48ffb476",
   "metadata": {},
   "outputs": [
    {
     "name": "stdout",
     "output_type": "stream",
     "text": [
      "6\n"
     ]
    }
   ],
   "source": [
    "print(name.index(\"i\",2,15))"
   ]
  },
  {
   "cell_type": "code",
   "execution_count": 12,
   "id": "93463aee",
   "metadata": {},
   "outputs": [
    {
     "name": "stdout",
     "output_type": "stream",
     "text": [
      "20\n",
      "6\n"
     ]
    }
   ],
   "source": [
    "print(name.rindex(\"i\"))\n",
    "print(name.index(\"i\"))"
   ]
  },
  {
   "cell_type": "code",
   "execution_count": 15,
   "id": "5768590a",
   "metadata": {},
   "outputs": [
    {
     "name": "stdout",
     "output_type": "stream",
     "text": [
      "6\n",
      "6\n"
     ]
    }
   ],
   "source": [
    "#Find and Index same\n",
    "print(name.index(\"i\"))\n",
    "print(name.find(\"i\"))"
   ]
  },
  {
   "cell_type": "code",
   "execution_count": 14,
   "id": "5cddef91",
   "metadata": {},
   "outputs": [
    {
     "ename": "ValueError",
     "evalue": "substring not found",
     "output_type": "error",
     "traceback": [
      "\u001b[1;31m---------------------------------------------------------------------------\u001b[0m",
      "\u001b[1;31mValueError\u001b[0m                                Traceback (most recent call last)",
      "Cell \u001b[1;32mIn[14], line 1\u001b[0m\n\u001b[1;32m----> 1\u001b[0m \u001b[38;5;28mprint\u001b[39m(name\u001b[38;5;241m.\u001b[39mindex(\u001b[38;5;124m\"\u001b[39m\u001b[38;5;124mj\u001b[39m\u001b[38;5;124m\"\u001b[39m))\n",
      "\u001b[1;31mValueError\u001b[0m: substring not found"
     ]
    }
   ],
   "source": [
    "print(name.index(\"j\"))"
   ]
  },
  {
   "cell_type": "code",
   "execution_count": 17,
   "id": "5ef47b24",
   "metadata": {},
   "outputs": [
    {
     "name": "stdout",
     "output_type": "stream",
     "text": [
      "-1\n"
     ]
    }
   ],
   "source": [
    "print(name.find(\"j\"))"
   ]
  },
  {
   "cell_type": "code",
   "execution_count": 18,
   "id": "a47ef528",
   "metadata": {},
   "outputs": [
    {
     "ename": "ValueError",
     "evalue": "substring not found",
     "output_type": "error",
     "traceback": [
      "\u001b[1;31m---------------------------------------------------------------------------\u001b[0m",
      "\u001b[1;31mValueError\u001b[0m                                Traceback (most recent call last)",
      "Cell \u001b[1;32mIn[18], line 3\u001b[0m\n\u001b[0;32m      1\u001b[0m \u001b[38;5;66;03m#rfind,rindex same\u001b[39;00m\n\u001b[1;32m----> 3\u001b[0m \u001b[38;5;28mprint\u001b[39m(name\u001b[38;5;241m.\u001b[39mrindex(\u001b[38;5;124m\"\u001b[39m\u001b[38;5;124mj\u001b[39m\u001b[38;5;124m\"\u001b[39m))\n",
      "\u001b[1;31mValueError\u001b[0m: substring not found"
     ]
    }
   ],
   "source": [
    "#rfind,rindex same\n",
    "\n",
    "print(name.rindex(\"j\"))"
   ]
  },
  {
   "cell_type": "code",
   "execution_count": 19,
   "id": "135d61ed",
   "metadata": {},
   "outputs": [
    {
     "name": "stdout",
     "output_type": "stream",
     "text": [
      "-1\n"
     ]
    }
   ],
   "source": [
    "print(name.rfind(\"j\"))"
   ]
  },
  {
   "cell_type": "code",
   "execution_count": 20,
   "id": "914dfe3b",
   "metadata": {},
   "outputs": [
    {
     "ename": "NameError",
     "evalue": "name 'j' is not defined",
     "output_type": "error",
     "traceback": [
      "\u001b[1;31m---------------------------------------------------------------------------\u001b[0m",
      "\u001b[1;31mNameError\u001b[0m                                 Traceback (most recent call last)",
      "Cell \u001b[1;32mIn[20], line 1\u001b[0m\n\u001b[1;32m----> 1\u001b[0m \u001b[38;5;28mprint\u001b[39m(name\u001b[38;5;241m.\u001b[39mrfind(j))\n",
      "\u001b[1;31mNameError\u001b[0m: name 'j' is not defined"
     ]
    }
   ],
   "source": [
    "print(name.rfind(j)) #Without double codes name error will come"
   ]
  },
  {
   "cell_type": "code",
   "execution_count": 21,
   "id": "82969db5",
   "metadata": {},
   "outputs": [],
   "source": [
    "name1=\"MalarvizhiSendilMani\""
   ]
  },
  {
   "cell_type": "code",
   "execution_count": 22,
   "id": "e6daf5d2",
   "metadata": {},
   "outputs": [
    {
     "name": "stdout",
     "output_type": "stream",
     "text": [
      "MalarvizhiSendilMani\n"
     ]
    }
   ],
   "source": [
    "print(name1)"
   ]
  },
  {
   "cell_type": "code",
   "execution_count": 23,
   "id": "04c2f856",
   "metadata": {},
   "outputs": [
    {
     "name": "stdout",
     "output_type": "stream",
     "text": [
      "['M', 'l', 'rvizhiSendilM', 'ni']\n"
     ]
    }
   ],
   "source": [
    "print(name1.split(\"a\"))"
   ]
  },
  {
   "cell_type": "code",
   "execution_count": 24,
   "id": "9ff5e3cd",
   "metadata": {},
   "outputs": [
    {
     "name": "stdout",
     "output_type": "stream",
     "text": [
      "['M', 'larvizhiSendilMani']\n"
     ]
    }
   ],
   "source": [
    "print(name1.split(\"a\",1))"
   ]
  },
  {
   "cell_type": "code",
   "execution_count": 25,
   "id": "97476fb2",
   "metadata": {},
   "outputs": [
    {
     "name": "stdout",
     "output_type": "stream",
     "text": [
      "M&l&rvizhiSendilM&ni\n"
     ]
    }
   ],
   "source": [
    "print(name1.replace(\"a\",\"&\"))"
   ]
  },
  {
   "cell_type": "code",
   "execution_count": 26,
   "id": "47de49ac",
   "metadata": {},
   "outputs": [
    {
     "name": "stdout",
     "output_type": "stream",
     "text": [
      "M&l&rvizhiSendilM&ni\n"
     ]
    }
   ],
   "source": [
    "print(name1.replace(\"a\",\"&\",4))"
   ]
  },
  {
   "cell_type": "code",
   "execution_count": 27,
   "id": "913c04e7",
   "metadata": {},
   "outputs": [
    {
     "name": "stdout",
     "output_type": "stream",
     "text": [
      "3\n"
     ]
    }
   ],
   "source": [
    "print(name1.count(\"a\"))"
   ]
  },
  {
   "cell_type": "code",
   "execution_count": 28,
   "id": "d1b511c5",
   "metadata": {},
   "outputs": [
    {
     "name": "stdout",
     "output_type": "stream",
     "text": [
      "1\n"
     ]
    }
   ],
   "source": [
    "print(name1.count(\"a\",4))\n",
    "#4th position la irunthu start panni check pannurathu"
   ]
  },
  {
   "cell_type": "code",
   "execution_count": 29,
   "id": "1ce247ba",
   "metadata": {},
   "outputs": [
    {
     "name": "stdout",
     "output_type": "stream",
     "text": [
      "2\n"
     ]
    }
   ],
   "source": [
    "print(name1.count(\"a\",3))\n",
    "#3rd position la irunthu start panni check pannurathu"
   ]
  },
  {
   "cell_type": "code",
   "execution_count": 30,
   "id": "cf7c355d",
   "metadata": {},
   "outputs": [
    {
     "name": "stdout",
     "output_type": "stream",
     "text": [
      "MalarvizhiSendhilmani\n"
     ]
    }
   ],
   "source": [
    "name3= \"MalarvizhiSendhilmani\"\n",
    "print(name3)"
   ]
  },
  {
   "cell_type": "code",
   "execution_count": 31,
   "id": "de314e40",
   "metadata": {},
   "outputs": [
    {
     "name": "stdout",
     "output_type": "stream",
     "text": [
      "True\n",
      "True\n"
     ]
    }
   ],
   "source": [
    "print(name3.startswith(\"M\"))\n",
    "print(name3.endswith(\"i\"))"
   ]
  },
  {
   "cell_type": "code",
   "execution_count": 32,
   "id": "2c513ac4",
   "metadata": {},
   "outputs": [
    {
     "name": "stdout",
     "output_type": "stream",
     "text": [
      "False\n",
      "False\n"
     ]
    }
   ],
   "source": [
    "print(name3.startswith(\"t\"))\n",
    "print(name3.endswith(\"r\"))"
   ]
  },
  {
   "cell_type": "code",
   "execution_count": 34,
   "id": "e75a78d3",
   "metadata": {},
   "outputs": [
    {
     "name": "stdout",
     "output_type": "stream",
     "text": [
      "hi Welcome\n",
      "hi Welcome  \n",
      "    hi Welcome\n"
     ]
    }
   ],
   "source": [
    "message= \"    hi Welcome  \"\n",
    "print(message.strip())\n",
    "print(message.lstrip())\n",
    "print(message.rstrip())"
   ]
  },
  {
   "cell_type": "code",
   "execution_count": 36,
   "id": "584e1dff",
   "metadata": {},
   "outputs": [
    {
     "name": "stdout",
     "output_type": "stream",
     "text": [
      "<class 'int'>\n",
      "True\n"
     ]
    }
   ],
   "source": [
    "num= 123\n",
    "print(type(num))\n",
    "print(isinstance(num,int))"
   ]
  },
  {
   "cell_type": "code",
   "execution_count": 37,
   "id": "6d0f0120",
   "metadata": {},
   "outputs": [
    {
     "name": "stdout",
     "output_type": "stream",
     "text": [
      "<class 'str'>\n",
      "False\n"
     ]
    }
   ],
   "source": [
    "num= \"123\"\n",
    "print(type(num))\n",
    "print(isinstance(num,int))"
   ]
  },
  {
   "cell_type": "code",
   "execution_count": 38,
   "id": "c9593510",
   "metadata": {},
   "outputs": [
    {
     "name": "stdout",
     "output_type": "stream",
     "text": [
      "<class 'float'>\n",
      "True\n"
     ]
    }
   ],
   "source": [
    "num= 123.0\n",
    "print(type(num))\n",
    "print(isinstance(num,float))"
   ]
  },
  {
   "cell_type": "code",
   "execution_count": 39,
   "id": "ca26ee2d",
   "metadata": {},
   "outputs": [
    {
     "name": "stdout",
     "output_type": "stream",
     "text": [
      "123\n",
      "<class 'int'>\n"
     ]
    }
   ],
   "source": [
    "#Type cascading \n",
    "num1=\"123\"\n",
    "num2 =int(num1)\n",
    "print(num2)\n",
    "print(type(num2))"
   ]
  },
  {
   "cell_type": "code",
   "execution_count": 40,
   "id": "10622230",
   "metadata": {},
   "outputs": [
    {
     "ename": "ValueError",
     "evalue": "invalid literal for int() with base 10: 'malar'",
     "output_type": "error",
     "traceback": [
      "\u001b[1;31m---------------------------------------------------------------------------\u001b[0m",
      "\u001b[1;31mValueError\u001b[0m                                Traceback (most recent call last)",
      "Cell \u001b[1;32mIn[40], line 2\u001b[0m\n\u001b[0;32m      1\u001b[0m name_new\u001b[38;5;241m=\u001b[39m\u001b[38;5;124m\"\u001b[39m\u001b[38;5;124mmalar\u001b[39m\u001b[38;5;124m\"\u001b[39m\n\u001b[1;32m----> 2\u001b[0m name_new1\u001b[38;5;241m=\u001b[39m\u001b[38;5;28mint\u001b[39m(name_new)\n\u001b[0;32m      3\u001b[0m \u001b[38;5;28mprint\u001b[39m(name_new1)\n\u001b[0;32m      4\u001b[0m \u001b[38;5;28mprint\u001b[39m(\u001b[38;5;28mtype\u001b[39m(name_new1))\n",
      "\u001b[1;31mValueError\u001b[0m: invalid literal for int() with base 10: 'malar'"
     ]
    }
   ],
   "source": [
    "name_new=\"malar\"\n",
    "name_new1=int(name_new)\n",
    "print(name_new1)\n",
    "print(type(name_new1))"
   ]
  },
  {
   "cell_type": "code",
   "execution_count": 41,
   "id": "ed217396",
   "metadata": {},
   "outputs": [
    {
     "name": "stdout",
     "output_type": "stream",
     "text": [
      "123.0\n",
      "<class 'float'>\n"
     ]
    }
   ],
   "source": [
    "num1_new=\"123\"\n",
    "num2_new =float(num1_new)\n",
    "print(num2_new)\n",
    "print(type(num2_new))"
   ]
  },
  {
   "cell_type": "code",
   "execution_count": 43,
   "id": "15114f7c",
   "metadata": {},
   "outputs": [
    {
     "ename": "ValueError",
     "evalue": "invalid literal for int() with base 10: '3455malar123'",
     "output_type": "error",
     "traceback": [
      "\u001b[1;31m---------------------------------------------------------------------------\u001b[0m",
      "\u001b[1;31mValueError\u001b[0m                                Traceback (most recent call last)",
      "Cell \u001b[1;32mIn[43], line 2\u001b[0m\n\u001b[0;32m      1\u001b[0m nam_new\u001b[38;5;241m=\u001b[39m\u001b[38;5;124m\"\u001b[39m\u001b[38;5;124m3455malar123\u001b[39m\u001b[38;5;124m\"\u001b[39m\n\u001b[1;32m----> 2\u001b[0m nam_new1\u001b[38;5;241m=\u001b[39m\u001b[38;5;28mint\u001b[39m(nam_new)\n\u001b[0;32m      3\u001b[0m \u001b[38;5;28mprint\u001b[39m(nam_new1)\n\u001b[0;32m      4\u001b[0m \u001b[38;5;28mprint\u001b[39m(\u001b[38;5;28mtype\u001b[39m(nam_new1))\n",
      "\u001b[1;31mValueError\u001b[0m: invalid literal for int() with base 10: '3455malar123'"
     ]
    }
   ],
   "source": [
    "nam_new=\"3455malar123\"\n",
    "nam_new1=int(nam_new)\n",
    "print(nam_new1)\n",
    "print(type(nam_new1))"
   ]
  },
  {
   "cell_type": "code",
   "execution_count": null,
   "id": "db51d2aa",
   "metadata": {},
   "outputs": [],
   "source": [
    "##LIST\n",
    "name=\"malar\"\n",
    "age=42\n",
    "loc=\"bangalore\"\n",
    "#ipdi pottah name space"
   ]
  },
  {
   "cell_type": "code",
   "execution_count": 45,
   "id": "545f789e",
   "metadata": {},
   "outputs": [
    {
     "name": "stdout",
     "output_type": "stream",
     "text": [
      "<class 'list'>\n"
     ]
    },
    {
     "ename": "TypeError",
     "evalue": "isinstance expected 2 arguments, got 1",
     "output_type": "error",
     "traceback": [
      "\u001b[1;31m---------------------------------------------------------------------------\u001b[0m",
      "\u001b[1;31mTypeError\u001b[0m                                 Traceback (most recent call last)",
      "Cell \u001b[1;32mIn[45], line 3\u001b[0m\n\u001b[0;32m      1\u001b[0m a\u001b[38;5;241m=\u001b[39m[\u001b[38;5;124m\"\u001b[39m\u001b[38;5;124marun\u001b[39m\u001b[38;5;124m\"\u001b[39m,\u001b[38;5;241m21\u001b[39m,\u001b[38;5;124m\"\u001b[39m\u001b[38;5;124mchennai\u001b[39m\u001b[38;5;124m\"\u001b[39m]\n\u001b[0;32m      2\u001b[0m \u001b[38;5;28mprint\u001b[39m(\u001b[38;5;28mtype\u001b[39m(a))\n\u001b[1;32m----> 3\u001b[0m \u001b[38;5;28mprint\u001b[39m(\u001b[38;5;28misinstance\u001b[39m(a))\n",
      "\u001b[1;31mTypeError\u001b[0m: isinstance expected 2 arguments, got 1"
     ]
    }
   ],
   "source": [
    "a=[\"arun\",21,\"chennai\"]\n",
    "print(type(a))\n",
    "print(isinstance(a))"
   ]
  },
  {
   "cell_type": "code",
   "execution_count": 46,
   "id": "4e254647",
   "metadata": {},
   "outputs": [
    {
     "name": "stdout",
     "output_type": "stream",
     "text": [
      "<class 'list'>\n"
     ]
    }
   ],
   "source": [
    "a=[\"arun\",21,\"chennai\"]\n",
    "print(type(a))"
   ]
  },
  {
   "cell_type": "code",
   "execution_count": 48,
   "id": "6f10b720",
   "metadata": {},
   "outputs": [
    {
     "name": "stdout",
     "output_type": "stream",
     "text": [
      "True\n"
     ]
    }
   ],
   "source": [
    "print(isinstance(a,list))"
   ]
  },
  {
   "cell_type": "code",
   "execution_count": 52,
   "id": "b6158260",
   "metadata": {},
   "outputs": [],
   "source": [
    "a1=[\"arun\",\"21\",\"chennai\"]"
   ]
  },
  {
   "cell_type": "code",
   "execution_count": 55,
   "id": "128d6886",
   "metadata": {},
   "outputs": [
    {
     "name": "stdout",
     "output_type": "stream",
     "text": [
      "3\n",
      "21\n",
      "chennai\n",
      "['21', 'arun', 'chennai']\n"
     ]
    }
   ],
   "source": [
    "print(len(a1))\n",
    "print(min(a1))\n",
    "print(max(a1))\n",
    "print(sorted(a1))"
   ]
  },
  {
   "cell_type": "code",
   "execution_count": 56,
   "id": "c9924141",
   "metadata": {},
   "outputs": [],
   "source": [
    "a3=[\"arun\",21,\"chennai\"]"
   ]
  },
  {
   "cell_type": "code",
   "execution_count": 57,
   "id": "dfc60532",
   "metadata": {},
   "outputs": [
    {
     "name": "stdout",
     "output_type": "stream",
     "text": [
      "3\n"
     ]
    },
    {
     "ename": "TypeError",
     "evalue": "'<' not supported between instances of 'int' and 'str'",
     "output_type": "error",
     "traceback": [
      "\u001b[1;31m---------------------------------------------------------------------------\u001b[0m",
      "\u001b[1;31mTypeError\u001b[0m                                 Traceback (most recent call last)",
      "Cell \u001b[1;32mIn[57], line 2\u001b[0m\n\u001b[0;32m      1\u001b[0m \u001b[38;5;28mprint\u001b[39m(\u001b[38;5;28mlen\u001b[39m(a3))\n\u001b[1;32m----> 2\u001b[0m \u001b[38;5;28mprint\u001b[39m(\u001b[38;5;28mmin\u001b[39m(a3))\n\u001b[0;32m      3\u001b[0m \u001b[38;5;28mprint\u001b[39m(\u001b[38;5;28mmax\u001b[39m(a3))\n\u001b[0;32m      4\u001b[0m \u001b[38;5;28mprint\u001b[39m(\u001b[38;5;28msorted\u001b[39m(a3))\n",
      "\u001b[1;31mTypeError\u001b[0m: '<' not supported between instances of 'int' and 'str'"
     ]
    }
   ],
   "source": [
    "print(len(a3))\n",
    "print(min(a3))\n",
    "print(max(a3))\n",
    "print(sorted(a3))"
   ]
  },
  {
   "cell_type": "code",
   "execution_count": 58,
   "id": "d6d7b9c8",
   "metadata": {},
   "outputs": [],
   "source": [
    "a3=[\"arun\",\"21\",\"chennai\"]"
   ]
  },
  {
   "cell_type": "code",
   "execution_count": 59,
   "id": "4b288bfe",
   "metadata": {},
   "outputs": [
    {
     "name": "stdout",
     "output_type": "stream",
     "text": [
      "arun\n"
     ]
    }
   ],
   "source": [
    "print(a3[0])"
   ]
  },
  {
   "cell_type": "code",
   "execution_count": 60,
   "id": "e30ce4ab",
   "metadata": {},
   "outputs": [
    {
     "name": "stdout",
     "output_type": "stream",
     "text": [
      "chennai\n"
     ]
    }
   ],
   "source": [
    "print(a3[-1])"
   ]
  },
  {
   "cell_type": "code",
   "execution_count": 61,
   "id": "0c0bd758",
   "metadata": {},
   "outputs": [
    {
     "name": "stdout",
     "output_type": "stream",
     "text": [
      "['chennai', '21', 'arun']\n"
     ]
    }
   ],
   "source": [
    "print(a3[::-1])"
   ]
  },
  {
   "cell_type": "code",
   "execution_count": 62,
   "id": "b938b08a",
   "metadata": {},
   "outputs": [
    {
     "name": "stdout",
     "output_type": "stream",
     "text": [
      "['21', 'chennai']\n"
     ]
    }
   ],
   "source": [
    "print(a3[1::])"
   ]
  },
  {
   "cell_type": "code",
   "execution_count": 63,
   "id": "3aede9f2",
   "metadata": {},
   "outputs": [
    {
     "name": "stdout",
     "output_type": "stream",
     "text": [
      "['21']\n"
     ]
    }
   ],
   "source": [
    "print(a3[1:2])"
   ]
  },
  {
   "cell_type": "code",
   "execution_count": 64,
   "id": "0e13dfb0",
   "metadata": {},
   "outputs": [],
   "source": [
    "#\n",
    "a=[\"arun\",\"kumar\",\"viji\"]"
   ]
  },
  {
   "cell_type": "code",
   "execution_count": 65,
   "id": "99ac0047",
   "metadata": {},
   "outputs": [],
   "source": [
    "a.append(\"venki\")"
   ]
  },
  {
   "cell_type": "code",
   "execution_count": 66,
   "id": "ffd680a5",
   "metadata": {},
   "outputs": [
    {
     "name": "stdout",
     "output_type": "stream",
     "text": [
      "['arun', 'kumar', 'viji', 'venki']\n"
     ]
    }
   ],
   "source": [
    "print(a)"
   ]
  },
  {
   "cell_type": "code",
   "execution_count": 69,
   "id": "97d51533",
   "metadata": {},
   "outputs": [],
   "source": [
    "a.insert(2,\"harini\")"
   ]
  },
  {
   "cell_type": "code",
   "execution_count": 70,
   "id": "a870a3e7",
   "metadata": {},
   "outputs": [
    {
     "name": "stdout",
     "output_type": "stream",
     "text": [
      "['arun', 'kumar', 'harini', 'viji', 'viji', 'venki']\n"
     ]
    }
   ],
   "source": [
    "print(a)"
   ]
  },
  {
   "cell_type": "code",
   "execution_count": 71,
   "id": "25e21d38",
   "metadata": {},
   "outputs": [],
   "source": [
    "a.remove('viji')"
   ]
  },
  {
   "cell_type": "code",
   "execution_count": 72,
   "id": "ec8411c3",
   "metadata": {},
   "outputs": [
    {
     "name": "stdout",
     "output_type": "stream",
     "text": [
      "['arun', 'kumar', 'harini', 'viji', 'venki']\n"
     ]
    }
   ],
   "source": [
    "print(a)"
   ]
  },
  {
   "cell_type": "code",
   "execution_count": 73,
   "id": "8d4988c2",
   "metadata": {},
   "outputs": [
    {
     "name": "stdout",
     "output_type": "stream",
     "text": [
      "['arun', 'kumar', 'viji', 'venki']\n"
     ]
    }
   ],
   "source": [
    "del a[2]\n",
    "print(a)"
   ]
  },
  {
   "cell_type": "code",
   "execution_count": 75,
   "id": "09fe41b9",
   "metadata": {},
   "outputs": [
    {
     "name": "stdout",
     "output_type": "stream",
     "text": [
      "try\n",
      "['arun', 'kishore', 'try']\n"
     ]
    }
   ],
   "source": [
    "a1=['arun','kishore','try','try']\n",
    "b=a1.pop()\n",
    "print(b)\n",
    "print(a1)"
   ]
  },
  {
   "cell_type": "code",
   "execution_count": 78,
   "id": "19bd4f22",
   "metadata": {},
   "outputs": [],
   "source": [
    "s=['arun','kishore','try','try']\n",
    "\n"
   ]
  },
  {
   "cell_type": "code",
   "execution_count": 77,
   "id": "f27fb002",
   "metadata": {},
   "outputs": [
    {
     "name": "stdout",
     "output_type": "stream",
     "text": [
      "['arun', 'kishore', 'try']\n"
     ]
    }
   ],
   "source": [
    "s.remove('try')\n",
    "print(s)"
   ]
  },
  {
   "cell_type": "code",
   "execution_count": 79,
   "id": "b9636611",
   "metadata": {},
   "outputs": [
    {
     "name": "stdout",
     "output_type": "stream",
     "text": [
      "try\n",
      "['arun', 'kishore', 'try']\n"
     ]
    }
   ],
   "source": [
    "s=['arun','kishore','try','try']\n",
    "s1=s.pop(2)\n",
    "print(s1)\n",
    "print(s)"
   ]
  },
  {
   "cell_type": "code",
   "execution_count": null,
   "id": "626ca2dd",
   "metadata": {},
   "outputs": [],
   "source": [
    "#shallow - shared\n",
    "#deep -diff\n"
   ]
  },
  {
   "cell_type": "code",
   "execution_count": 80,
   "id": "ec811c4e",
   "metadata": {},
   "outputs": [
    {
     "name": "stdout",
     "output_type": "stream",
     "text": [
      "[1, 2, 3]\n",
      "[1, 2, 3]\n"
     ]
    }
   ],
   "source": [
    "a=[1,2,3]\n",
    "b=a\n",
    "print(a)\n",
    "print(b)"
   ]
  },
  {
   "cell_type": "code",
   "execution_count": 81,
   "id": "0a30bc00",
   "metadata": {},
   "outputs": [
    {
     "name": "stdout",
     "output_type": "stream",
     "text": [
      "[1, 2, 3, 4]\n",
      "[1, 2, 3, 4]\n"
     ]
    }
   ],
   "source": [
    "a.append(4)\n",
    "print(a)\n",
    "print(b)"
   ]
  },
  {
   "cell_type": "code",
   "execution_count": 82,
   "id": "fa3f527b",
   "metadata": {},
   "outputs": [
    {
     "name": "stdout",
     "output_type": "stream",
     "text": [
      "[1, 2, 3, 4]\n",
      "[1, 2, 3]\n"
     ]
    }
   ],
   "source": [
    "a11=[1,2,3]\n",
    "b11=a11.copy()\n",
    "a11.append(4)\n",
    "print(a11)\n",
    "print(b11)"
   ]
  },
  {
   "cell_type": "code",
   "execution_count": 83,
   "id": "6292440c",
   "metadata": {},
   "outputs": [
    {
     "name": "stdout",
     "output_type": "stream",
     "text": [
      "[1, 2, 3, [4, 5, 6]]\n"
     ]
    }
   ],
   "source": [
    "g=[1,2,3]\n",
    "h=[4,5,6]\n",
    "g.append(h)\n",
    "print(g)\n",
    "#list kullah list ah append aguthi"
   ]
  },
  {
   "cell_type": "code",
   "execution_count": 84,
   "id": "a3017001",
   "metadata": {},
   "outputs": [
    {
     "name": "stdout",
     "output_type": "stream",
     "text": [
      "[1, 2, 3, 4, 5, 6]\n"
     ]
    }
   ],
   "source": [
    "#i need all shouldbe come in same list\n",
    "g1=[1,2,3]\n",
    "h1=[4,5,6]\n",
    "g1.extend(h1)\n",
    "print(g1)"
   ]
  },
  {
   "cell_type": "code",
   "execution_count": 85,
   "id": "50faf059",
   "metadata": {},
   "outputs": [],
   "source": [
    "a=(\"arun\",\"kumar\")"
   ]
  },
  {
   "cell_type": "code",
   "execution_count": 87,
   "id": "1c16db73",
   "metadata": {},
   "outputs": [
    {
     "name": "stdout",
     "output_type": "stream",
     "text": [
      "<class 'tuple'>\n"
     ]
    }
   ],
   "source": [
    "print(type(a))\n"
   ]
  },
  {
   "cell_type": "code",
   "execution_count": 91,
   "id": "b3faa812",
   "metadata": {},
   "outputs": [
    {
     "name": "stdout",
     "output_type": "stream",
     "text": [
      "True\n"
     ]
    }
   ],
   "source": [
    "print(isinstance(a,tuple))"
   ]
  },
  {
   "cell_type": "code",
   "execution_count": 92,
   "id": "b651ad90",
   "metadata": {},
   "outputs": [
    {
     "name": "stdout",
     "output_type": "stream",
     "text": [
      "2\n",
      "arun\n",
      "kumar\n"
     ]
    }
   ],
   "source": [
    "print(len(a))\n",
    "print(min(a))\n",
    "print(max(a))"
   ]
  },
  {
   "cell_type": "code",
   "execution_count": 93,
   "id": "f592e457",
   "metadata": {},
   "outputs": [
    {
     "name": "stdout",
     "output_type": "stream",
     "text": [
      "['arun', 'kumar']\n"
     ]
    }
   ],
   "source": [
    "print(sorted(a))"
   ]
  },
  {
   "cell_type": "code",
   "execution_count": 94,
   "id": "226f821f",
   "metadata": {},
   "outputs": [
    {
     "name": "stdout",
     "output_type": "stream",
     "text": [
      "arun\n",
      "('kumar', 'arun')\n"
     ]
    }
   ],
   "source": [
    "print(a[0])\n",
    "print(a[::-1])"
   ]
  },
  {
   "cell_type": "code",
   "execution_count": 95,
   "id": "a7ee20fa",
   "metadata": {},
   "outputs": [
    {
     "ename": "AttributeError",
     "evalue": "'tuple' object has no attribute 'append'",
     "output_type": "error",
     "traceback": [
      "\u001b[1;31m---------------------------------------------------------------------------\u001b[0m",
      "\u001b[1;31mAttributeError\u001b[0m                            Traceback (most recent call last)",
      "Cell \u001b[1;32mIn[95], line 1\u001b[0m\n\u001b[1;32m----> 1\u001b[0m a\u001b[38;5;241m.\u001b[39mappend(\u001b[38;5;124m\"\u001b[39m\u001b[38;5;124mwelcome\u001b[39m\u001b[38;5;124m\"\u001b[39m)\n",
      "\u001b[1;31mAttributeError\u001b[0m: 'tuple' object has no attribute 'append'"
     ]
    }
   ],
   "source": [
    "a.append(\"welcome\")"
   ]
  },
  {
   "cell_type": "code",
   "execution_count": 106,
   "id": "5ce566e8",
   "metadata": {},
   "outputs": [
    {
     "name": "stdout",
     "output_type": "stream",
     "text": [
      " hello welcome today how are you  \n",
      "hello welcome today how are you\n",
      "hellowelcometodayhowareyou\n"
     ]
    }
   ],
   "source": [
    "#assignment 2\n",
    "#remove space\n",
    "a = \" hello welcome today how are you  \"\n",
    "print(a)\n",
    "print(a.strip())\n",
    "print(a.replace(\" \",\"\"))"
   ]
  },
  {
   "cell_type": "code",
   "execution_count": 110,
   "id": "51b40fa7",
   "metadata": {},
   "outputs": [
    {
     "name": "stdout",
     "output_type": "stream",
     "text": [
      "SachinTendular\n",
      "S$chinTendul$r\n",
      "Sachi#Te#dular\n"
     ]
    }
   ],
   "source": [
    "names=\"SachinTendular\"\n",
    "print(names)\n",
    "print(names.replace(\"a\",\"$\"))\n",
    "print(names.replace(\"n\",\"#\"))"
   ]
  },
  {
   "cell_type": "code",
   "execution_count": 120,
   "id": "21a77b55",
   "metadata": {},
   "outputs": [
    {
     "name": "stdout",
     "output_type": "stream",
     "text": [
      "SachinTendular\n",
      "S$chi#Te#dul$r\n"
     ]
    }
   ],
   "source": [
    "names=\"SachinTendular\"\n",
    "print(names)\n",
    "print(names.replace(\"a\",\"$\").replace(\"n\",\"#\"))"
   ]
  },
  {
   "cell_type": "code",
   "execution_count": 119,
   "id": "4f67250d",
   "metadata": {},
   "outputs": [
    {
     "name": "stdout",
     "output_type": "stream",
     "text": [
      "S$chi#Te#dul$r\n"
     ]
    }
   ],
   "source": [
    "print(names.replace(\"a\",\"$\").replace(\"n\",\"#\"))"
   ]
  },
  {
   "cell_type": "code",
   "execution_count": 130,
   "id": "678dd9a2",
   "metadata": {
    "scrolled": true
   },
   "outputs": [
    {
     "name": "stdout",
     "output_type": "stream",
     "text": [
      "<class 'list'>\n",
      "['arun', '21', 'chennai']\n",
      "arun\n",
      "a\n",
      "n\n",
      "chennai\n",
      "c\n",
      "i\n"
     ]
    }
   ],
   "source": [
    "a = [\"arun\", \"21\" , \"chennai\"]\n",
    "print(type(a))\n",
    "print(a)\n",
    "print(a[0])\n",
    "print(a[0][0])\n",
    "print(a[0][-1])\n",
    "print(a[2])\n",
    "print(a[2][0])\n",
    "print(a[2][-1])"
   ]
  },
  {
   "cell_type": "code",
   "execution_count": 142,
   "id": "ab15fbe1",
   "metadata": {},
   "outputs": [
    {
     "name": "stdout",
     "output_type": "stream",
     "text": [
      "['arun', '21', 'chennai']\n",
      "2\n"
     ]
    }
   ],
   "source": [
    "a1 = [\"arun\", \"21\" , \"chennai\"]\n",
    "print(a1)\n",
    "print(a1.index(\"chennai\"))"
   ]
  },
  {
   "cell_type": "code",
   "execution_count": 148,
   "id": "edb3ce01",
   "metadata": {},
   "outputs": [
    {
     "name": "stdout",
     "output_type": "stream",
     "text": [
      "['arun', '21', 'chennai']\n",
      "('arun', '21', 'chennai')\n",
      "<class 'list'>\n",
      "True\n",
      "False\n"
     ]
    }
   ],
   "source": [
    "a3 = [\"arun\", \"21\" , \"chennai\"]\n",
    "print(a3)\n",
    "print(tuple(a3))\n",
    "print(type(a3))\n",
    "print(isinstance(a3,list))\n",
    "print(isinstance(a3,tuple))"
   ]
  },
  {
   "cell_type": "code",
   "execution_count": null,
   "id": "3c5c26dd",
   "metadata": {},
   "outputs": [],
   "source": []
  }
 ],
 "metadata": {
  "kernelspec": {
   "display_name": "Python 3 (ipykernel)",
   "language": "python",
   "name": "python3"
  },
  "language_info": {
   "codemirror_mode": {
    "name": "ipython",
    "version": 3
   },
   "file_extension": ".py",
   "mimetype": "text/x-python",
   "name": "python",
   "nbconvert_exporter": "python",
   "pygments_lexer": "ipython3",
   "version": "3.11.3"
  }
 },
 "nbformat": 4,
 "nbformat_minor": 5
}
