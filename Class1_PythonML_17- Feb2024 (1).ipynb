{
 "cells": [
  {
   "cell_type": "code",
   "execution_count": 2,
   "id": "74987ab8",
   "metadata": {},
   "outputs": [
    {
     "name": "stdout",
     "output_type": "stream",
     "text": [
      "Hello World\n"
     ]
    }
   ],
   "source": [
    "#Print\n",
    "#*****\n",
    "print (\"Hello World\")\n",
    "#Shift +Enter is short cut key for running the code"
   ]
  },
  {
   "cell_type": "code",
   "execution_count": 3,
   "id": "5bac7186",
   "metadata": {},
   "outputs": [
    {
     "name": "stdout",
     "output_type": "stream",
     "text": [
      "hi\n",
      "welcome\n",
      "to the Python class\n"
     ]
    }
   ],
   "source": [
    "print(\"hi\")\n",
    "print(\"welcome\")\n",
    "print(\"to the Python class\")"
   ]
  },
  {
   "cell_type": "code",
   "execution_count": 5,
   "id": "523824c5",
   "metadata": {},
   "outputs": [
    {
     "name": "stdout",
     "output_type": "stream",
     "text": [
      "hi\n",
      "welcome\n",
      "to the class\n"
     ]
    }
   ],
   "source": [
    "print(\"hi\\nwelcome\\nto the class\")\n",
    "#\\n means \"next(new) line\" will come"
   ]
  },
  {
   "cell_type": "code",
   "execution_count": 7,
   "id": "b42c0d29",
   "metadata": {},
   "outputs": [
    {
     "name": "stdout",
     "output_type": "stream",
     "text": [
      "hi\twelcome\ttotheclass\n"
     ]
    }
   ],
   "source": [
    "print(\"hi\\twelcome\\ttotheclass\")\n",
    "#\\t means \"Tab\""
   ]
  },
  {
   "cell_type": "code",
   "execution_count": null,
   "id": "2fa9653f",
   "metadata": {},
   "outputs": [],
   "source": [
    "#Comment\n",
    "#*******\n",
    "#Comment is user to capture users input\n",
    "#1. Single line comment - starts with #\n",
    "#2.Multiline comments - starts with \"\"\" ends with \"\"\"\n",
    "#Shortcut key Ctrl A select agum \n",
    "#ctrl A / uncomment agum"
   ]
  },
  {
   "cell_type": "code",
   "execution_count": 8,
   "id": "26cdd91c",
   "metadata": {},
   "outputs": [
    {
     "name": "stdout",
     "output_type": "stream",
     "text": [
      "hello\n"
     ]
    }
   ],
   "source": [
    "#print(\"hi\")\n",
    "print(\"hello\")\n",
    "#print(\"welcome\")"
   ]
  },
  {
   "cell_type": "code",
   "execution_count": 9,
   "id": "7112994a",
   "metadata": {},
   "outputs": [
    {
     "data": {
      "text/plain": [
       "'\\nprint(\"hi\")\\nprint(\"hello\")\\nprint(\"welcome\")\\n'"
      ]
     },
     "execution_count": 9,
     "metadata": {},
     "output_type": "execute_result"
    }
   ],
   "source": [
    "\"\"\"\n",
    "print(\"hi\")\n",
    "print(\"hello\")\n",
    "print(\"welcome\")\n",
    "\"\"\""
   ]
  },
  {
   "cell_type": "code",
   "execution_count": 10,
   "id": "533f339c",
   "metadata": {},
   "outputs": [
    {
     "data": {
      "text/plain": [
       "'\\nhi Welcome\\nHow are you\\n'"
      ]
     },
     "execution_count": 10,
     "metadata": {},
     "output_type": "execute_result"
    }
   ],
   "source": [
    "\"\"\"\n",
    "hi Welcome\n",
    "How are you\n",
    "\"\"\""
   ]
  },
  {
   "cell_type": "code",
   "execution_count": 11,
   "id": "28a7f46c",
   "metadata": {},
   "outputs": [
    {
     "name": "stdout",
     "output_type": "stream",
     "text": [
      "welcome to today class\n"
     ]
    }
   ],
   "source": [
    "#repeated need to print \n",
    "print (\"welcome to today class\")"
   ]
  },
  {
   "cell_type": "code",
   "execution_count": 12,
   "id": "284e05d9",
   "metadata": {},
   "outputs": [
    {
     "name": "stdout",
     "output_type": "stream",
     "text": [
      "welcome to today class\n"
     ]
    }
   ],
   "source": [
    "print(\"welcome to today class\")"
   ]
  },
  {
   "cell_type": "code",
   "execution_count": 22,
   "id": "cf5765f4",
   "metadata": {},
   "outputs": [
    {
     "name": "stdout",
     "output_type": "stream",
     "text": [
      "Welcome to today class\n"
     ]
    }
   ],
   "source": [
    "#so here we declared of variable\n",
    "a = \"Welcome to today class\"\n",
    "print(a)"
   ]
  },
  {
   "cell_type": "code",
   "execution_count": 25,
   "id": "cb262ac0",
   "metadata": {},
   "outputs": [
    {
     "ename": "SyntaxError",
     "evalue": "invalid decimal literal (286206989.py, line 4)",
     "output_type": "error",
     "traceback": [
      "\u001b[1;36m  Cell \u001b[1;32mIn[25], line 4\u001b[1;36m\u001b[0m\n\u001b[1;33m    1test =\"test\"\u001b[0m\n\u001b[1;37m    ^\u001b[0m\n\u001b[1;31mSyntaxError\u001b[0m\u001b[1;31m:\u001b[0m invalid decimal literal\n"
     ]
    }
   ],
   "source": [
    "#variable can starts with text and _(Underscore)\n",
    "#variable cannot start with number and Special char\n",
    "test1 = \"demo\"\n",
    "1test =\"test\""
   ]
  },
  {
   "cell_type": "code",
   "execution_count": 28,
   "id": "1290a312",
   "metadata": {},
   "outputs": [
    {
     "name": "stdout",
     "output_type": "stream",
     "text": [
      "hi\n",
      "hiii\n"
     ]
    }
   ],
   "source": [
    "t1=\"hi\"\n",
    "_t2=\"hiii\"\n",
    "print(t1)\n",
    "print(_t2)"
   ]
  },
  {
   "cell_type": "code",
   "execution_count": 29,
   "id": "b8264d6a",
   "metadata": {},
   "outputs": [
    {
     "ename": "SyntaxError",
     "evalue": "invalid syntax (1418553243.py, line 3)",
     "output_type": "error",
     "traceback": [
      "\u001b[1;36m  Cell \u001b[1;32mIn[29], line 3\u001b[1;36m\u001b[0m\n\u001b[1;33m    print(test@)\u001b[0m\n\u001b[1;37m               ^\u001b[0m\n\u001b[1;31mSyntaxError\u001b[0m\u001b[1;31m:\u001b[0m invalid syntax\n"
     ]
    }
   ],
   "source": [
    "#variable name should not have any spl char\n",
    "test@=\"hai\"\n",
    "print(test@)"
   ]
  },
  {
   "cell_type": "code",
   "execution_count": 30,
   "id": "5209eaac",
   "metadata": {},
   "outputs": [
    {
     "name": "stdout",
     "output_type": "stream",
     "text": [
      "Malar\n",
      "<class 'str'>\n"
     ]
    }
   ],
   "source": [
    "#Types of values are supported by Python\n",
    "#Data types\n",
    "##string - anything comes in double quotes\n",
    "a=\"Malar\"\n",
    "print(a)\n",
    "print(type(a))"
   ]
  },
  {
   "cell_type": "code",
   "execution_count": 31,
   "id": "d70102a1",
   "metadata": {},
   "outputs": [
    {
     "name": "stdout",
     "output_type": "stream",
     "text": [
      "True\n"
     ]
    }
   ],
   "source": [
    "print(isinstance(a,str))\n",
    "#function returns True if the specified object is of \n",
    "#the specified type\n",
    "#ie true or false"
   ]
  },
  {
   "cell_type": "code",
   "execution_count": 32,
   "id": "75950645",
   "metadata": {},
   "outputs": [
    {
     "name": "stdout",
     "output_type": "stream",
     "text": [
      "5\n"
     ]
    }
   ],
   "source": [
    "##Length of the string\n",
    "print(len(a))"
   ]
  },
  {
   "cell_type": "code",
   "execution_count": 34,
   "id": "11ced681",
   "metadata": {},
   "outputs": [
    {
     "name": "stdout",
     "output_type": "stream",
     "text": [
      "M\n",
      "r\n",
      "['M', 'a', 'a', 'l', 'r']\n"
     ]
    }
   ],
   "source": [
    "##minimum and maximum  and sorted of string\n",
    "print(min(a))\n",
    "#returns the item with the lowest value, \n",
    "#or the item with the lowest value in an iterable.\n",
    "print(max(a))\n",
    "# function returns the item with the highest value, \n",
    "#or the item with the highest value in an iterable\n",
    "print(sorted(a))\n",
    "# function returns a sorted list of the specified iterable \n",
    "#object. You can specify ascending or descending order. \n",
    "#Strings are sorted alphabetically,"
   ]
  },
  {
   "cell_type": "code",
   "execution_count": null,
   "id": "384cfa61",
   "metadata": {},
   "outputs": [],
   "source": [
    "#ASCII A-Z = 65 to 90\n",
    "#ASCII a-to = 97-122"
   ]
  },
  {
   "cell_type": "code",
   "execution_count": 35,
   "id": "8684f0da",
   "metadata": {},
   "outputs": [
    {
     "name": "stdout",
     "output_type": "stream",
     "text": [
      "MALAR\n",
      "malar\n",
      "mALAR\n",
      "False\n",
      "False\n",
      "False\n"
     ]
    }
   ],
   "source": [
    "#method returns a string where all characters are in upper case\n",
    "print(a.upper())\n",
    "# The lower() method returns a string where all characters are lower case\n",
    "print(a.lower())\n",
    "# method returns a string where all the upper case letters are lower case and vice versa.\n",
    "print(a.swapcase())\n",
    "#method returns True if all the characters are in upper case, otherwise False\n",
    "print(a.isupper())\n",
    "#method returns True if all the characters are in lower case, otherwise False. Numbers, symbols and spaces are not checked,\n",
    "print(a.islower())\n",
    "# method returns True if all the characters are digits, otherwise False. Exponents, like ²,\n",
    "#are also considered to be a digit.\n",
    "print(a.isdigit())\n"
   ]
  },
  {
   "cell_type": "code",
   "execution_count": 36,
   "id": "7b665072",
   "metadata": {},
   "outputs": [
    {
     "name": "stdout",
     "output_type": "stream",
     "text": [
      "True\n",
      "True\n"
     ]
    }
   ],
   "source": [
    "#method returns True if all the characters are alphabet letters (a-z).\n",
    "#Example of characters that are not alphabet letters\n",
    "print(a.isalpha())\n",
    "#method returns True if all the characters are alphanumeric, \n",
    "#meaning alphabet letter (a-z) and numbers (0-9)\n",
    "print(a.isalnum())"
   ]
  },
  {
   "cell_type": "code",
   "execution_count": null,
   "id": "e9288c4b",
   "metadata": {},
   "outputs": [],
   "source": [
    "#indexing\n",
    "#0    1   2   3    4    5 \n",
    "#p    y   t   h    o    n\n",
    "#-6  -5  -4  -3  -2   -1"
   ]
  },
  {
   "cell_type": "code",
   "execution_count": 37,
   "id": "1e771c54",
   "metadata": {},
   "outputs": [
    {
     "name": "stdout",
     "output_type": "stream",
     "text": [
      "MalarvizhiChinnamandiu\n"
     ]
    }
   ],
   "source": [
    "b=\"MalarvizhiChinnamandiu\"\n",
    "print(b)"
   ]
  },
  {
   "cell_type": "code",
   "execution_count": 38,
   "id": "e47c6546",
   "metadata": {},
   "outputs": [
    {
     "name": "stdout",
     "output_type": "stream",
     "text": [
      "Malar\n"
     ]
    }
   ],
   "source": [
    "print(a)"
   ]
  },
  {
   "cell_type": "code",
   "execution_count": 39,
   "id": "9071fcc5",
   "metadata": {},
   "outputs": [
    {
     "name": "stdout",
     "output_type": "stream",
     "text": [
      "l\n"
     ]
    }
   ],
   "source": [
    "print(a[2])"
   ]
  },
  {
   "cell_type": "code",
   "execution_count": 40,
   "id": "35a41fac",
   "metadata": {},
   "outputs": [
    {
     "name": "stdout",
     "output_type": "stream",
     "text": [
      "a\n"
     ]
    }
   ],
   "source": [
    "print(a[-4])"
   ]
  },
  {
   "cell_type": "code",
   "execution_count": 41,
   "id": "011d01d7",
   "metadata": {},
   "outputs": [
    {
     "name": "stdout",
     "output_type": "stream",
     "text": [
      "l\n"
     ]
    }
   ],
   "source": [
    "print(a[-3])"
   ]
  },
  {
   "cell_type": "code",
   "execution_count": 42,
   "id": "465eb63e",
   "metadata": {},
   "outputs": [
    {
     "name": "stdout",
     "output_type": "stream",
     "text": [
      "r\n"
     ]
    }
   ],
   "source": [
    "print(a[-1])"
   ]
  },
  {
   "cell_type": "code",
   "execution_count": 43,
   "id": "ed01f2b3",
   "metadata": {},
   "outputs": [
    {
     "name": "stdout",
     "output_type": "stream",
     "text": [
      "M\n"
     ]
    }
   ],
   "source": [
    "print(a[0])"
   ]
  },
  {
   "cell_type": "code",
   "execution_count": 45,
   "id": "d5875289",
   "metadata": {},
   "outputs": [
    {
     "ename": "IndexError",
     "evalue": "string index out of range",
     "output_type": "error",
     "traceback": [
      "\u001b[1;31m---------------------------------------------------------------------------\u001b[0m",
      "\u001b[1;31mIndexError\u001b[0m                                Traceback (most recent call last)",
      "Cell \u001b[1;32mIn[45], line 1\u001b[0m\n\u001b[1;32m----> 1\u001b[0m \u001b[38;5;28mprint\u001b[39m(a[\u001b[38;5;241m-\u001b[39m\u001b[38;5;241m7\u001b[39m])\n",
      "\u001b[1;31mIndexError\u001b[0m: string index out of range"
     ]
    }
   ],
   "source": [
    "print(a[-7]) #beyond the limit means shows this error"
   ]
  },
  {
   "cell_type": "code",
   "execution_count": 46,
   "id": "cbe0de5c",
   "metadata": {},
   "outputs": [
    {
     "name": "stdout",
     "output_type": "stream",
     "text": [
      "Malar\n"
     ]
    }
   ],
   "source": [
    "print(b[0:5])"
   ]
  },
  {
   "cell_type": "code",
   "execution_count": 47,
   "id": "76dab289",
   "metadata": {},
   "outputs": [
    {
     "name": "stdout",
     "output_type": "stream",
     "text": [
      "vizhi\n"
     ]
    }
   ],
   "source": [
    "print(b[5:10])"
   ]
  },
  {
   "cell_type": "code",
   "execution_count": 50,
   "id": "512f42f2",
   "metadata": {},
   "outputs": [
    {
     "name": "stdout",
     "output_type": "stream",
     "text": [
      "MalarvizhiChinnamandiu\n"
     ]
    }
   ],
   "source": [
    "print(b[:])"
   ]
  },
  {
   "cell_type": "code",
   "execution_count": 52,
   "id": "92a2f686",
   "metadata": {},
   "outputs": [
    {
     "name": "stdout",
     "output_type": "stream",
     "text": [
      "MalarvizhiChinnamandiu\n"
     ]
    }
   ],
   "source": [
    "print(b[::1])"
   ]
  },
  {
   "cell_type": "code",
   "execution_count": 53,
   "id": "c8210d97",
   "metadata": {},
   "outputs": [
    {
     "name": "stdout",
     "output_type": "stream",
     "text": [
      "MlrihCinmni\n"
     ]
    }
   ],
   "source": [
    "print(b[::2])"
   ]
  },
  {
   "cell_type": "code",
   "execution_count": 54,
   "id": "39973dda",
   "metadata": {},
   "outputs": [
    {
     "name": "stdout",
     "output_type": "stream",
     "text": [
      "Maiiianu\n"
     ]
    }
   ],
   "source": [
    "print(b[::3])"
   ]
  },
  {
   "cell_type": "code",
   "execution_count": 55,
   "id": "01a76c8d",
   "metadata": {},
   "outputs": [
    {
     "name": "stdout",
     "output_type": "stream",
     "text": [
      "uidnamannihCihzivralaM\n"
     ]
    }
   ],
   "source": [
    "#Reverse String\n",
    "print(b[::-1])\n"
   ]
  },
  {
   "cell_type": "code",
   "execution_count": 56,
   "id": "b15ebc59",
   "metadata": {},
   "outputs": [
    {
     "name": "stdout",
     "output_type": "stream",
     "text": [
      "12\n"
     ]
    },
    {
     "data": {
      "text/plain": [
       "'12'"
      ]
     },
     "execution_count": 56,
     "metadata": {},
     "output_type": "execute_result"
    }
   ],
   "source": [
    "#how to get a input from user\n",
    "input()"
   ]
  },
  {
   "cell_type": "code",
   "execution_count": 57,
   "id": "4f1d76ed",
   "metadata": {},
   "outputs": [
    {
     "name": "stdout",
     "output_type": "stream",
     "text": [
      "My name is Malar\n"
     ]
    },
    {
     "data": {
      "text/plain": [
       "'My name is Malar'"
      ]
     },
     "execution_count": 57,
     "metadata": {},
     "output_type": "execute_result"
    }
   ],
   "source": [
    "input()"
   ]
  },
  {
   "cell_type": "code",
   "execution_count": null,
   "id": "c164c828",
   "metadata": {},
   "outputs": [],
   "source": [
    "#Question 1: identify the last letter of a word without using reverse index\n",
    "#Question 2: get input from a user and assign it to a variable\n",
    "#Question3 : drom question2 variables check the data type\n",
    "#question4: from question 3 get full digit and check isdigit is working or not\n"
   ]
  },
  {
   "cell_type": "code",
   "execution_count": null,
   "id": "aa11e4b5",
   "metadata": {},
   "outputs": [],
   "source": [
    "name = \"Malarvizhi\"\n",
    "last_letter = name[len(name) - 1]\n",
    "print(last_letter)"
   ]
  },
  {
   "cell_type": "code",
   "execution_count": 63,
   "id": "ce677a2d",
   "metadata": {},
   "outputs": [
    {
     "name": "stdout",
     "output_type": "stream",
     "text": [
      "i\n"
     ]
    }
   ],
   "source": [
    "n= \"MalarvizhiSendhilMani\"\n",
    "last_letter = n[len(n)-1]\n",
    "print(last_letter)"
   ]
  },
  {
   "cell_type": "code",
   "execution_count": 64,
   "id": "83784dfd",
   "metadata": {},
   "outputs": [
    {
     "name": "stdout",
     "output_type": "stream",
     "text": [
      "Enter your Name: MalarvizhiSendhilMani\n"
     ]
    }
   ],
   "source": [
    "s=input(\"Enter your Name: \")"
   ]
  },
  {
   "cell_type": "code",
   "execution_count": 66,
   "id": "03337d1f",
   "metadata": {
    "scrolled": true
   },
   "outputs": [
    {
     "name": "stdout",
     "output_type": "stream",
     "text": [
      "<class 'str'>\n"
     ]
    }
   ],
   "source": [
    "print(type(s))"
   ]
  },
  {
   "cell_type": "code",
   "execution_count": 67,
   "id": "23cd5d45",
   "metadata": {},
   "outputs": [
    {
     "name": "stdout",
     "output_type": "stream",
     "text": [
      "False\n"
     ]
    }
   ],
   "source": [
    "print(s.isdigit())"
   ]
  },
  {
   "cell_type": "code",
   "execution_count": null,
   "id": "1474125c",
   "metadata": {},
   "outputs": [],
   "source": [
    "print(n.index())"
   ]
  }
 ],
 "metadata": {
  "kernelspec": {
   "display_name": "Python 3 (ipykernel)",
   "language": "python",
   "name": "python3"
  },
  "language_info": {
   "codemirror_mode": {
    "name": "ipython",
    "version": 3
   },
   "file_extension": ".py",
   "mimetype": "text/x-python",
   "name": "python",
   "nbconvert_exporter": "python",
   "pygments_lexer": "ipython3",
   "version": "3.11.3"
  }
 },
 "nbformat": 4,
 "nbformat_minor": 5
}
